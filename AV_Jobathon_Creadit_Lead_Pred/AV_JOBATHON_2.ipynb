{
 "cells": [
  {
   "cell_type": "code",
   "execution_count": 1,
   "metadata": {},
   "outputs": [],
   "source": [
    "import numpy as np\n",
    "import pandas as pd\n",
    "\n",
    "import matplotlib.pyplot as plt\n",
    "%matplotlib inline\n",
    "import seaborn as sns\n",
    "\n",
    "from sklearn import metrics\n",
    "from sklearn import preprocessing"
   ]
  },
  {
   "cell_type": "code",
   "execution_count": 2,
   "metadata": {},
   "outputs": [],
   "source": [
    "from sklearn.linear_model import LogisticRegression\n",
    "from sklearn.naive_bayes import GaussianNB\n",
    "from sklearn.tree import DecisionTreeClassifier\n",
    "from sklearn.ensemble import RandomForestClassifier, VotingClassifier\n",
    "from sklearn.svm import SVC\n",
    "from sklearn.neighbors import KNeighborsClassifier\n",
    "from sklearn.metrics import classification_report, confusion_matrix, roc_curve, auc\n",
    "from imblearn.under_sampling import RandomUnderSampler\n",
    "from imblearn.over_sampling import RandomOverSampler, SMOTE\n",
    "from collections import Counter\n",
    "from scipy import interp\n",
    "import itertools"
   ]
  },
  {
   "cell_type": "code",
   "execution_count": 3,
   "metadata": {},
   "outputs": [],
   "source": [
    "train = pd.read_csv(\"train_s3TEQDk.csv\")\n",
    "test = pd.read_csv(\"test_mSzZ8RL.csv\")"
   ]
  },
  {
   "cell_type": "code",
   "execution_count": 4,
   "metadata": {},
   "outputs": [
    {
     "data": {
      "text/html": [
       "<div>\n",
       "<style scoped>\n",
       "    .dataframe tbody tr th:only-of-type {\n",
       "        vertical-align: middle;\n",
       "    }\n",
       "\n",
       "    .dataframe tbody tr th {\n",
       "        vertical-align: top;\n",
       "    }\n",
       "\n",
       "    .dataframe thead th {\n",
       "        text-align: right;\n",
       "    }\n",
       "</style>\n",
       "<table border=\"1\" class=\"dataframe\">\n",
       "  <thead>\n",
       "    <tr style=\"text-align: right;\">\n",
       "      <th></th>\n",
       "      <th>ID</th>\n",
       "      <th>Gender</th>\n",
       "      <th>Age</th>\n",
       "      <th>Region_Code</th>\n",
       "      <th>Occupation</th>\n",
       "      <th>Channel_Code</th>\n",
       "      <th>Vintage</th>\n",
       "      <th>Credit_Product</th>\n",
       "      <th>Avg_Account_Balance</th>\n",
       "      <th>Is_Active</th>\n",
       "      <th>Is_Lead</th>\n",
       "    </tr>\n",
       "  </thead>\n",
       "  <tbody>\n",
       "    <tr>\n",
       "      <th>0</th>\n",
       "      <td>NNVBBKZB</td>\n",
       "      <td>Female</td>\n",
       "      <td>73</td>\n",
       "      <td>RG268</td>\n",
       "      <td>Other</td>\n",
       "      <td>X3</td>\n",
       "      <td>43</td>\n",
       "      <td>No</td>\n",
       "      <td>1045696</td>\n",
       "      <td>No</td>\n",
       "      <td>0</td>\n",
       "    </tr>\n",
       "    <tr>\n",
       "      <th>1</th>\n",
       "      <td>IDD62UNG</td>\n",
       "      <td>Female</td>\n",
       "      <td>30</td>\n",
       "      <td>RG277</td>\n",
       "      <td>Salaried</td>\n",
       "      <td>X1</td>\n",
       "      <td>32</td>\n",
       "      <td>No</td>\n",
       "      <td>581988</td>\n",
       "      <td>No</td>\n",
       "      <td>0</td>\n",
       "    </tr>\n",
       "    <tr>\n",
       "      <th>2</th>\n",
       "      <td>HD3DSEMC</td>\n",
       "      <td>Female</td>\n",
       "      <td>56</td>\n",
       "      <td>RG268</td>\n",
       "      <td>Self_Employed</td>\n",
       "      <td>X3</td>\n",
       "      <td>26</td>\n",
       "      <td>No</td>\n",
       "      <td>1484315</td>\n",
       "      <td>Yes</td>\n",
       "      <td>0</td>\n",
       "    </tr>\n",
       "    <tr>\n",
       "      <th>3</th>\n",
       "      <td>BF3NC7KV</td>\n",
       "      <td>Male</td>\n",
       "      <td>34</td>\n",
       "      <td>RG270</td>\n",
       "      <td>Salaried</td>\n",
       "      <td>X1</td>\n",
       "      <td>19</td>\n",
       "      <td>No</td>\n",
       "      <td>470454</td>\n",
       "      <td>No</td>\n",
       "      <td>0</td>\n",
       "    </tr>\n",
       "    <tr>\n",
       "      <th>4</th>\n",
       "      <td>TEASRWXV</td>\n",
       "      <td>Female</td>\n",
       "      <td>30</td>\n",
       "      <td>RG282</td>\n",
       "      <td>Salaried</td>\n",
       "      <td>X1</td>\n",
       "      <td>33</td>\n",
       "      <td>No</td>\n",
       "      <td>886787</td>\n",
       "      <td>No</td>\n",
       "      <td>0</td>\n",
       "    </tr>\n",
       "  </tbody>\n",
       "</table>\n",
       "</div>"
      ],
      "text/plain": [
       "         ID  Gender  Age Region_Code     Occupation Channel_Code  Vintage  \\\n",
       "0  NNVBBKZB  Female   73       RG268          Other           X3       43   \n",
       "1  IDD62UNG  Female   30       RG277       Salaried           X1       32   \n",
       "2  HD3DSEMC  Female   56       RG268  Self_Employed           X3       26   \n",
       "3  BF3NC7KV    Male   34       RG270       Salaried           X1       19   \n",
       "4  TEASRWXV  Female   30       RG282       Salaried           X1       33   \n",
       "\n",
       "  Credit_Product  Avg_Account_Balance Is_Active  Is_Lead  \n",
       "0             No              1045696        No        0  \n",
       "1             No               581988        No        0  \n",
       "2             No              1484315       Yes        0  \n",
       "3             No               470454        No        0  \n",
       "4             No               886787        No        0  "
      ]
     },
     "execution_count": 4,
     "metadata": {},
     "output_type": "execute_result"
    }
   ],
   "source": [
    "train.head()"
   ]
  },
  {
   "cell_type": "code",
   "execution_count": 5,
   "metadata": {},
   "outputs": [
    {
     "data": {
      "text/plain": [
       "(245725, 11)"
      ]
     },
     "execution_count": 5,
     "metadata": {},
     "output_type": "execute_result"
    }
   ],
   "source": [
    "train.shape"
   ]
  },
  {
   "cell_type": "code",
   "execution_count": 6,
   "metadata": {},
   "outputs": [
    {
     "data": {
      "text/plain": [
       "(105312, 10)"
      ]
     },
     "execution_count": 6,
     "metadata": {},
     "output_type": "execute_result"
    }
   ],
   "source": [
    "test.shape"
   ]
  },
  {
   "cell_type": "code",
   "execution_count": 7,
   "metadata": {},
   "outputs": [
    {
     "data": {
      "text/plain": [
       "0    187437\n",
       "1     58288\n",
       "Name: Is_Lead, dtype: int64"
      ]
     },
     "execution_count": 7,
     "metadata": {},
     "output_type": "execute_result"
    }
   ],
   "source": [
    "train['Is_Lead'].value_counts()"
   ]
  },
  {
   "cell_type": "code",
   "execution_count": 8,
   "metadata": {},
   "outputs": [
    {
     "name": "stdout",
     "output_type": "stream",
     "text": [
      "<class 'pandas.core.frame.DataFrame'>\n",
      "RangeIndex: 245725 entries, 0 to 245724\n",
      "Data columns (total 11 columns):\n",
      " #   Column               Non-Null Count   Dtype \n",
      "---  ------               --------------   ----- \n",
      " 0   ID                   245725 non-null  object\n",
      " 1   Gender               245725 non-null  object\n",
      " 2   Age                  245725 non-null  int64 \n",
      " 3   Region_Code          245725 non-null  object\n",
      " 4   Occupation           245725 non-null  object\n",
      " 5   Channel_Code         245725 non-null  object\n",
      " 6   Vintage              245725 non-null  int64 \n",
      " 7   Credit_Product       216400 non-null  object\n",
      " 8   Avg_Account_Balance  245725 non-null  int64 \n",
      " 9   Is_Active            245725 non-null  object\n",
      " 10  Is_Lead              245725 non-null  int64 \n",
      "dtypes: int64(4), object(7)\n",
      "memory usage: 20.6+ MB\n"
     ]
    }
   ],
   "source": [
    "train.info()"
   ]
  },
  {
   "cell_type": "code",
   "execution_count": 9,
   "metadata": {},
   "outputs": [],
   "source": [
    "is_lead = train['Is_Lead'].value_counts()"
   ]
  },
  {
   "cell_type": "code",
   "execution_count": 10,
   "metadata": {},
   "outputs": [],
   "source": [
    "is_lead_1 = is_lead[1]/train['Is_Lead'].count()*100\n",
    "is_lead_0 = is_lead[0]/train['Is_Lead'].count()*100"
   ]
  },
  {
   "cell_type": "code",
   "execution_count": 11,
   "metadata": {},
   "outputs": [
    {
     "data": {
      "text/plain": [
       "(23.720826126767726, 76.27917387323228)"
      ]
     },
     "execution_count": 11,
     "metadata": {},
     "output_type": "execute_result"
    }
   ],
   "source": [
    "is_lead_1, is_lead_0"
   ]
  },
  {
   "cell_type": "code",
   "execution_count": 12,
   "metadata": {},
   "outputs": [
    {
     "data": {
      "text/plain": [
       "(58288, 187437)"
      ]
     },
     "execution_count": 12,
     "metadata": {},
     "output_type": "execute_result"
    }
   ],
   "source": [
    "is_lead[1], is_lead[0]"
   ]
  },
  {
   "cell_type": "code",
   "execution_count": 13,
   "metadata": {},
   "outputs": [
    {
     "data": {
      "text/plain": [
       "0    187437\n",
       "1     58288\n",
       "Name: Is_Lead, dtype: int64"
      ]
     },
     "execution_count": 13,
     "metadata": {},
     "output_type": "execute_result"
    }
   ],
   "source": [
    "is_lead"
   ]
  },
  {
   "cell_type": "code",
   "execution_count": 14,
   "metadata": {},
   "outputs": [
    {
     "data": {
      "text/plain": [
       "Text(0, 0.5, 'Frequency')"
      ]
     },
     "execution_count": 14,
     "metadata": {},
     "output_type": "execute_result"
    },
    {
     "data": {
      "image/png": "[encoded data removed]",
      "text/plain": [
       "<Figure size 432x288 with 1 Axes>"
      ]
     },
     "metadata": {
      "needs_background": "light"
     },
     "output_type": "display_data"
    }
   ],
   "source": [
    "LABELS = [\"is_lead_0\", \"is_lead_1\"]\n",
    "count_classes = pd.value_counts(train['Is_Lead'], sort = True)\n",
    "\n",
    "count_classes.plot(kind = 'bar', rot=0)\n",
    "\n",
    "plt.title(\"Is_Lead Distribution\")\n",
    "\n",
    "plt.xticks(range(2), LABELS)\n",
    "\n",
    "plt.xlabel(\"Is_Lead\")\n",
    "\n",
    "plt.ylabel(\"Frequency\")"
   ]
  },
  {
   "cell_type": "code",
   "execution_count": 15,
   "metadata": {},
   "outputs": [
    {
     "data": {
      "text/plain": [
       "Index(['ID', 'Gender', 'Age', 'Region_Code', 'Occupation', 'Channel_Code',\n",
       "       'Vintage', 'Credit_Product', 'Avg_Account_Balance', 'Is_Active',\n",
       "       'Is_Lead'],\n",
       "      dtype='object')"
      ]
     },
     "execution_count": 15,
     "metadata": {},
     "output_type": "execute_result"
    }
   ],
   "source": [
    "train.columns"
   ]
  },
  {
   "cell_type": "code",
   "execution_count": 16,
   "metadata": {},
   "outputs": [
    {
     "data": {
      "text/plain": [
       "count    245725.000000\n",
       "mean         43.856307\n",
       "std          14.828672\n",
       "min          23.000000\n",
       "25%          30.000000\n",
       "50%          43.000000\n",
       "75%          54.000000\n",
       "max          85.000000\n",
       "Name: Age, dtype: float64"
      ]
     },
     "execution_count": 16,
     "metadata": {},
     "output_type": "execute_result"
    }
   ],
   "source": [
    "train['Age'].describe()"
   ]
  },
  {
   "cell_type": "code",
   "execution_count": 17,
   "metadata": {},
   "outputs": [],
   "source": [
    "train_85 = train[train['Age'] == 85]"
   ]
  },
  {
   "cell_type": "code",
   "execution_count": 18,
   "metadata": {},
   "outputs": [
    {
     "data": {
      "text/html": [
       "<div>\n",
       "<style scoped>\n",
       "    .dataframe tbody tr th:only-of-type {\n",
       "        vertical-align: middle;\n",
       "    }\n",
       "\n",
       "    .dataframe tbody tr th {\n",
       "        vertical-align: top;\n",
       "    }\n",
       "\n",
       "    .dataframe thead th {\n",
       "        text-align: right;\n",
       "    }\n",
       "</style>\n",
       "<table border=\"1\" class=\"dataframe\">\n",
       "  <thead>\n",
       "    <tr style=\"text-align: right;\">\n",
       "      <th></th>\n",
       "      <th>ID</th>\n",
       "      <th>Gender</th>\n",
       "      <th>Age</th>\n",
       "      <th>Region_Code</th>\n",
       "      <th>Occupation</th>\n",
       "      <th>Channel_Code</th>\n",
       "      <th>Vintage</th>\n",
       "      <th>Credit_Product</th>\n",
       "      <th>Avg_Account_Balance</th>\n",
       "      <th>Is_Active</th>\n",
       "      <th>Is_Lead</th>\n",
       "    </tr>\n",
       "  </thead>\n",
       "  <tbody>\n",
       "    <tr>\n",
       "      <th>411</th>\n",
       "      <td>B3SZXEA3</td>\n",
       "      <td>Male</td>\n",
       "      <td>85</td>\n",
       "      <td>RG282</td>\n",
       "      <td>Other</td>\n",
       "      <td>X3</td>\n",
       "      <td>115</td>\n",
       "      <td>Yes</td>\n",
       "      <td>891513</td>\n",
       "      <td>No</td>\n",
       "      <td>0</td>\n",
       "    </tr>\n",
       "    <tr>\n",
       "      <th>459</th>\n",
       "      <td>NGO2QWP5</td>\n",
       "      <td>Male</td>\n",
       "      <td>85</td>\n",
       "      <td>RG284</td>\n",
       "      <td>Other</td>\n",
       "      <td>X3</td>\n",
       "      <td>122</td>\n",
       "      <td>NaN</td>\n",
       "      <td>1075662</td>\n",
       "      <td>Yes</td>\n",
       "      <td>1</td>\n",
       "    </tr>\n",
       "    <tr>\n",
       "      <th>840</th>\n",
       "      <td>SHQ6SJSA</td>\n",
       "      <td>Male</td>\n",
       "      <td>85</td>\n",
       "      <td>RG262</td>\n",
       "      <td>Other</td>\n",
       "      <td>X2</td>\n",
       "      <td>91</td>\n",
       "      <td>No</td>\n",
       "      <td>946372</td>\n",
       "      <td>Yes</td>\n",
       "      <td>0</td>\n",
       "    </tr>\n",
       "    <tr>\n",
       "      <th>1454</th>\n",
       "      <td>SNSMEQZU</td>\n",
       "      <td>Male</td>\n",
       "      <td>85</td>\n",
       "      <td>RG283</td>\n",
       "      <td>Other</td>\n",
       "      <td>X3</td>\n",
       "      <td>43</td>\n",
       "      <td>No</td>\n",
       "      <td>427618</td>\n",
       "      <td>Yes</td>\n",
       "      <td>0</td>\n",
       "    </tr>\n",
       "    <tr>\n",
       "      <th>1488</th>\n",
       "      <td>EJEZPOCZ</td>\n",
       "      <td>Female</td>\n",
       "      <td>85</td>\n",
       "      <td>RG254</td>\n",
       "      <td>Other</td>\n",
       "      <td>X3</td>\n",
       "      <td>86</td>\n",
       "      <td>Yes</td>\n",
       "      <td>1395973</td>\n",
       "      <td>No</td>\n",
       "      <td>0</td>\n",
       "    </tr>\n",
       "    <tr>\n",
       "      <th>...</th>\n",
       "      <td>...</td>\n",
       "      <td>...</td>\n",
       "      <td>...</td>\n",
       "      <td>...</td>\n",
       "      <td>...</td>\n",
       "      <td>...</td>\n",
       "      <td>...</td>\n",
       "      <td>...</td>\n",
       "      <td>...</td>\n",
       "      <td>...</td>\n",
       "      <td>...</td>\n",
       "    </tr>\n",
       "    <tr>\n",
       "      <th>244192</th>\n",
       "      <td>YTQNRO3B</td>\n",
       "      <td>Female</td>\n",
       "      <td>85</td>\n",
       "      <td>RG265</td>\n",
       "      <td>Other</td>\n",
       "      <td>X3</td>\n",
       "      <td>51</td>\n",
       "      <td>No</td>\n",
       "      <td>870206</td>\n",
       "      <td>No</td>\n",
       "      <td>0</td>\n",
       "    </tr>\n",
       "    <tr>\n",
       "      <th>244624</th>\n",
       "      <td>7JVWB7QX</td>\n",
       "      <td>Male</td>\n",
       "      <td>85</td>\n",
       "      <td>RG268</td>\n",
       "      <td>Other</td>\n",
       "      <td>X3</td>\n",
       "      <td>128</td>\n",
       "      <td>Yes</td>\n",
       "      <td>775617</td>\n",
       "      <td>No</td>\n",
       "      <td>0</td>\n",
       "    </tr>\n",
       "    <tr>\n",
       "      <th>244986</th>\n",
       "      <td>6XWIISCH</td>\n",
       "      <td>Male</td>\n",
       "      <td>85</td>\n",
       "      <td>RG284</td>\n",
       "      <td>Other</td>\n",
       "      <td>X3</td>\n",
       "      <td>115</td>\n",
       "      <td>Yes</td>\n",
       "      <td>1879795</td>\n",
       "      <td>Yes</td>\n",
       "      <td>0</td>\n",
       "    </tr>\n",
       "    <tr>\n",
       "      <th>245106</th>\n",
       "      <td>HJEHNTAP</td>\n",
       "      <td>Male</td>\n",
       "      <td>85</td>\n",
       "      <td>RG254</td>\n",
       "      <td>Other</td>\n",
       "      <td>X3</td>\n",
       "      <td>86</td>\n",
       "      <td>NaN</td>\n",
       "      <td>1442983</td>\n",
       "      <td>No</td>\n",
       "      <td>1</td>\n",
       "    </tr>\n",
       "    <tr>\n",
       "      <th>245224</th>\n",
       "      <td>HFCMKAVY</td>\n",
       "      <td>Female</td>\n",
       "      <td>85</td>\n",
       "      <td>RG268</td>\n",
       "      <td>Other</td>\n",
       "      <td>X3</td>\n",
       "      <td>109</td>\n",
       "      <td>No</td>\n",
       "      <td>1860634</td>\n",
       "      <td>Yes</td>\n",
       "      <td>0</td>\n",
       "    </tr>\n",
       "  </tbody>\n",
       "</table>\n",
       "<p>604 rows × 11 columns</p>\n",
       "</div>"
      ],
      "text/plain": [
       "              ID  Gender  Age Region_Code Occupation Channel_Code  Vintage  \\\n",
       "411     B3SZXEA3    Male   85       RG282      Other           X3      115   \n",
       "459     NGO2QWP5    Male   85       RG284      Other           X3      122   \n",
       "840     SHQ6SJSA    Male   85       RG262      Other           X2       91   \n",
       "1454    SNSMEQZU    Male   85       RG283      Other           X3       43   \n",
       "1488    EJEZPOCZ  Female   85       RG254      Other           X3       86   \n",
       "...          ...     ...  ...         ...        ...          ...      ...   \n",
       "244192  YTQNRO3B  Female   85       RG265      Other           X3       51   \n",
       "244624  7JVWB7QX    Male   85       RG268      Other           X3      128   \n",
       "244986  6XWIISCH    Male   85       RG284      Other           X3      115   \n",
       "245106  HJEHNTAP    Male   85       RG254      Other           X3       86   \n",
       "245224  HFCMKAVY  Female   85       RG268      Other           X3      109   \n",
       "\n",
       "       Credit_Product  Avg_Account_Balance Is_Active  Is_Lead  \n",
       "411               Yes               891513        No        0  \n",
       "459               NaN              1075662       Yes        1  \n",
       "840                No               946372       Yes        0  \n",
       "1454               No               427618       Yes        0  \n",
       "1488              Yes              1395973        No        0  \n",
       "...               ...                  ...       ...      ...  \n",
       "244192             No               870206        No        0  \n",
       "244624            Yes               775617        No        0  \n",
       "244986            Yes              1879795       Yes        0  \n",
       "245106            NaN              1442983        No        1  \n",
       "245224             No              1860634       Yes        0  \n",
       "\n",
       "[604 rows x 11 columns]"
      ]
     },
     "execution_count": 18,
     "metadata": {},
     "output_type": "execute_result"
    }
   ],
   "source": [
    "train_85"
   ]
  },
  {
   "cell_type": "code",
   "execution_count": 19,
   "metadata": {},
   "outputs": [
    {
     "data": {
      "text/html": [
       "<div>\n",
       "<style scoped>\n",
       "    .dataframe tbody tr th:only-of-type {\n",
       "        vertical-align: middle;\n",
       "    }\n",
       "\n",
       "    .dataframe tbody tr th {\n",
       "        vertical-align: top;\n",
       "    }\n",
       "\n",
       "    .dataframe thead th {\n",
       "        text-align: right;\n",
       "    }\n",
       "</style>\n",
       "<table border=\"1\" class=\"dataframe\">\n",
       "  <thead>\n",
       "    <tr style=\"text-align: right;\">\n",
       "      <th>Is_Lead</th>\n",
       "      <th>0</th>\n",
       "      <th>1</th>\n",
       "    </tr>\n",
       "    <tr>\n",
       "      <th>Gender</th>\n",
       "      <th></th>\n",
       "      <th></th>\n",
       "    </tr>\n",
       "  </thead>\n",
       "  <tbody>\n",
       "    <tr>\n",
       "      <th>Female</th>\n",
       "      <td>88823</td>\n",
       "      <td>22705</td>\n",
       "    </tr>\n",
       "    <tr>\n",
       "      <th>Male</th>\n",
       "      <td>98614</td>\n",
       "      <td>35583</td>\n",
       "    </tr>\n",
       "  </tbody>\n",
       "</table>\n",
       "</div>"
      ],
      "text/plain": [
       "Is_Lead      0      1\n",
       "Gender               \n",
       "Female   88823  22705\n",
       "Male     98614  35583"
      ]
     },
     "execution_count": 19,
     "metadata": {},
     "output_type": "execute_result"
    }
   ],
   "source": [
    "pd.crosstab(train['Gender'], train['Is_Lead'])"
   ]
  },
  {
   "cell_type": "code",
   "execution_count": 20,
   "metadata": {},
   "outputs": [
    {
     "data": {
      "text/html": [
       "<div>\n",
       "<style scoped>\n",
       "    .dataframe tbody tr th:only-of-type {\n",
       "        vertical-align: middle;\n",
       "    }\n",
       "\n",
       "    .dataframe tbody tr th {\n",
       "        vertical-align: top;\n",
       "    }\n",
       "\n",
       "    .dataframe thead th {\n",
       "        text-align: right;\n",
       "    }\n",
       "</style>\n",
       "<table border=\"1\" class=\"dataframe\">\n",
       "  <thead>\n",
       "    <tr style=\"text-align: right;\">\n",
       "      <th>Is_Lead</th>\n",
       "      <th>0</th>\n",
       "      <th>1</th>\n",
       "    </tr>\n",
       "    <tr>\n",
       "      <th>Age</th>\n",
       "      <th></th>\n",
       "      <th></th>\n",
       "    </tr>\n",
       "  </thead>\n",
       "  <tbody>\n",
       "    <tr>\n",
       "      <th>23</th>\n",
       "      <td>1</td>\n",
       "      <td>0</td>\n",
       "    </tr>\n",
       "    <tr>\n",
       "      <th>24</th>\n",
       "      <td>1794</td>\n",
       "      <td>111</td>\n",
       "    </tr>\n",
       "    <tr>\n",
       "      <th>25</th>\n",
       "      <td>4940</td>\n",
       "      <td>367</td>\n",
       "    </tr>\n",
       "    <tr>\n",
       "      <th>26</th>\n",
       "      <td>8448</td>\n",
       "      <td>591</td>\n",
       "    </tr>\n",
       "    <tr>\n",
       "      <th>27</th>\n",
       "      <td>12183</td>\n",
       "      <td>822</td>\n",
       "    </tr>\n",
       "    <tr>\n",
       "      <th>...</th>\n",
       "      <td>...</td>\n",
       "      <td>...</td>\n",
       "    </tr>\n",
       "    <tr>\n",
       "      <th>81</th>\n",
       "      <td>559</td>\n",
       "      <td>271</td>\n",
       "    </tr>\n",
       "    <tr>\n",
       "      <th>82</th>\n",
       "      <td>494</td>\n",
       "      <td>255</td>\n",
       "    </tr>\n",
       "    <tr>\n",
       "      <th>83</th>\n",
       "      <td>466</td>\n",
       "      <td>228</td>\n",
       "    </tr>\n",
       "    <tr>\n",
       "      <th>84</th>\n",
       "      <td>410</td>\n",
       "      <td>214</td>\n",
       "    </tr>\n",
       "    <tr>\n",
       "      <th>85</th>\n",
       "      <td>403</td>\n",
       "      <td>201</td>\n",
       "    </tr>\n",
       "  </tbody>\n",
       "</table>\n",
       "<p>63 rows × 2 columns</p>\n",
       "</div>"
      ],
      "text/plain": [
       "Is_Lead      0    1\n",
       "Age                \n",
       "23           1    0\n",
       "24        1794  111\n",
       "25        4940  367\n",
       "26        8448  591\n",
       "27       12183  822\n",
       "..         ...  ...\n",
       "81         559  271\n",
       "82         494  255\n",
       "83         466  228\n",
       "84         410  214\n",
       "85         403  201\n",
       "\n",
       "[63 rows x 2 columns]"
      ]
     },
     "execution_count": 20,
     "metadata": {},
     "output_type": "execute_result"
    }
   ],
   "source": [
    "pd.crosstab(train['Age'], train['Is_Lead'])"
   ]
  },
  {
   "cell_type": "code",
   "execution_count": 21,
   "metadata": {},
   "outputs": [
    {
     "data": {
      "text/plain": [
       "Self_Employed    100886\n",
       "Salaried          71999\n",
       "Other             70173\n",
       "Entrepreneur       2667\n",
       "Name: Occupation, dtype: int64"
      ]
     },
     "execution_count": 21,
     "metadata": {},
     "output_type": "execute_result"
    }
   ],
   "source": [
    "train['Occupation'].value_counts()"
   ]
  },
  {
   "cell_type": "code",
   "execution_count": 22,
   "metadata": {},
   "outputs": [
    {
     "data": {
      "text/html": [
       "<div>\n",
       "<style scoped>\n",
       "    .dataframe tbody tr th:only-of-type {\n",
       "        vertical-align: middle;\n",
       "    }\n",
       "\n",
       "    .dataframe tbody tr th {\n",
       "        vertical-align: top;\n",
       "    }\n",
       "\n",
       "    .dataframe thead th {\n",
       "        text-align: right;\n",
       "    }\n",
       "</style>\n",
       "<table border=\"1\" class=\"dataframe\">\n",
       "  <thead>\n",
       "    <tr style=\"text-align: right;\">\n",
       "      <th>Is_Lead</th>\n",
       "      <th>0</th>\n",
       "      <th>1</th>\n",
       "    </tr>\n",
       "    <tr>\n",
       "      <th>Occupation</th>\n",
       "      <th></th>\n",
       "      <th></th>\n",
       "    </tr>\n",
       "  </thead>\n",
       "  <tbody>\n",
       "    <tr>\n",
       "      <th>Entrepreneur</th>\n",
       "      <td>905</td>\n",
       "      <td>1762</td>\n",
       "    </tr>\n",
       "    <tr>\n",
       "      <th>Other</th>\n",
       "      <td>52984</td>\n",
       "      <td>17189</td>\n",
       "    </tr>\n",
       "    <tr>\n",
       "      <th>Salaried</th>\n",
       "      <td>60503</td>\n",
       "      <td>11496</td>\n",
       "    </tr>\n",
       "    <tr>\n",
       "      <th>Self_Employed</th>\n",
       "      <td>73045</td>\n",
       "      <td>27841</td>\n",
       "    </tr>\n",
       "  </tbody>\n",
       "</table>\n",
       "</div>"
      ],
      "text/plain": [
       "Is_Lead            0      1\n",
       "Occupation                 \n",
       "Entrepreneur     905   1762\n",
       "Other          52984  17189\n",
       "Salaried       60503  11496\n",
       "Self_Employed  73045  27841"
      ]
     },
     "execution_count": 22,
     "metadata": {},
     "output_type": "execute_result"
    }
   ],
   "source": [
    "pd.crosstab(train['Occupation'], train['Is_Lead'])"
   ]
  },
  {
   "cell_type": "code",
   "execution_count": 23,
   "metadata": {},
   "outputs": [
    {
     "data": {
      "text/plain": [
       "count    245725.000000\n",
       "mean         46.959141\n",
       "std          32.353136\n",
       "min           7.000000\n",
       "25%          20.000000\n",
       "50%          32.000000\n",
       "75%          73.000000\n",
       "max         135.000000\n",
       "Name: Vintage, dtype: float64"
      ]
     },
     "execution_count": 23,
     "metadata": {},
     "output_type": "execute_result"
    }
   ],
   "source": [
    "train['Vintage'].describe()"
   ]
  },
  {
   "cell_type": "code",
   "execution_count": 24,
   "metadata": {},
   "outputs": [],
   "source": [
    "def rare_encoding(data, variable, tolerance,new_col):\n",
    "    frequent_cat = find_non_rare_labels(data, variable, tolerance)\n",
    "\n",
    "    # re-group rare labels\n",
    "    data[new_col] = np.where(data[variable].isin(\n",
    "        frequent_cat), data[variable], 'Rare')\n",
    "    \n",
    "\n",
    "def find_non_rare_labels(df, variable, tolerance):\n",
    "    \n",
    "    temp = df.groupby([variable])[variable].count() / len(df)\n",
    "    \n",
    "    non_rare = [x for x in temp.loc[temp>tolerance].index.values]\n",
    "    \n",
    "    return non_rare"
   ]
  },
  {
   "cell_type": "code",
   "execution_count": 25,
   "metadata": {},
   "outputs": [],
   "source": [
    "for variable in ['Region_Code']:\n",
    "    \n",
    "     rare_encoding(train, variable, 0.02,'Region_Code_Group')"
   ]
  },
  {
   "cell_type": "code",
   "execution_count": 26,
   "metadata": {},
   "outputs": [
    {
     "data": {
      "text/plain": [
       "Rare     51887\n",
       "RG268    35934\n",
       "RG283    29416\n",
       "RG254    26840\n",
       "RG284    19320\n",
       "RG277    12826\n",
       "RG280    12775\n",
       "RG269     7863\n",
       "RG270     7720\n",
       "RG261     7633\n",
       "RG257     6101\n",
       "RG251     5950\n",
       "RG282     5829\n",
       "RG274     5286\n",
       "RG272     5252\n",
       "RG281     5093\n",
       "Name: Region_Code_Group, dtype: int64"
      ]
     },
     "execution_count": 26,
     "metadata": {},
     "output_type": "execute_result"
    }
   ],
   "source": [
    "train['Region_Code_Group'].value_counts()"
   ]
  },
  {
   "cell_type": "code",
   "execution_count": 27,
   "metadata": {},
   "outputs": [
    {
     "data": {
      "text/html": [
       "<div>\n",
       "<style scoped>\n",
       "    .dataframe tbody tr th:only-of-type {\n",
       "        vertical-align: middle;\n",
       "    }\n",
       "\n",
       "    .dataframe tbody tr th {\n",
       "        vertical-align: top;\n",
       "    }\n",
       "\n",
       "    .dataframe thead th {\n",
       "        text-align: right;\n",
       "    }\n",
       "</style>\n",
       "<table border=\"1\" class=\"dataframe\">\n",
       "  <thead>\n",
       "    <tr style=\"text-align: right;\">\n",
       "      <th>Is_Lead</th>\n",
       "      <th>0</th>\n",
       "      <th>1</th>\n",
       "    </tr>\n",
       "    <tr>\n",
       "      <th>Is_Active</th>\n",
       "      <th></th>\n",
       "      <th></th>\n",
       "    </tr>\n",
       "  </thead>\n",
       "  <tbody>\n",
       "    <tr>\n",
       "      <th>No</th>\n",
       "      <td>119007</td>\n",
       "      <td>31283</td>\n",
       "    </tr>\n",
       "    <tr>\n",
       "      <th>Yes</th>\n",
       "      <td>68430</td>\n",
       "      <td>27005</td>\n",
       "    </tr>\n",
       "  </tbody>\n",
       "</table>\n",
       "</div>"
      ],
      "text/plain": [
       "Is_Lead         0      1\n",
       "Is_Active               \n",
       "No         119007  31283\n",
       "Yes         68430  27005"
      ]
     },
     "execution_count": 27,
     "metadata": {},
     "output_type": "execute_result"
    }
   ],
   "source": [
    "pd.crosstab(train['Is_Active'], train['Is_Lead'])"
   ]
  },
  {
   "cell_type": "code",
   "execution_count": 28,
   "metadata": {},
   "outputs": [
    {
     "data": {
      "image/png": "[encoded data removed]",
      "text/plain": [
       "<Figure size 432x288 with 1 Axes>"
      ]
     },
     "metadata": {
      "needs_background": "light"
     },
     "output_type": "display_data"
    }
   ],
   "source": [
    "plt.scatter(train['Avg_Account_Balance'], train['Is_Active'])\n",
    "plt.xlabel('Avg_Account_Balance')\n",
    "plt.ylabel('Is_Active')\n",
    "plt.show()"
   ]
  },
  {
   "cell_type": "code",
   "execution_count": 29,
   "metadata": {},
   "outputs": [
    {
     "data": {
      "text/plain": [
       "count    2.457250e+05\n",
       "mean     1.128403e+06\n",
       "std      8.529364e+05\n",
       "min      2.079000e+04\n",
       "25%      6.043100e+05\n",
       "50%      8.946010e+05\n",
       "75%      1.366666e+06\n",
       "max      1.035201e+07\n",
       "Name: Avg_Account_Balance, dtype: float64"
      ]
     },
     "execution_count": 29,
     "metadata": {},
     "output_type": "execute_result"
    }
   ],
   "source": [
    "train['Avg_Account_Balance'].describe()"
   ]
  },
  {
   "cell_type": "code",
   "execution_count": 30,
   "metadata": {},
   "outputs": [
    {
     "data": {
      "text/html": [
       "<div>\n",
       "<style scoped>\n",
       "    .dataframe tbody tr th:only-of-type {\n",
       "        vertical-align: middle;\n",
       "    }\n",
       "\n",
       "    .dataframe tbody tr th {\n",
       "        vertical-align: top;\n",
       "    }\n",
       "\n",
       "    .dataframe thead th {\n",
       "        text-align: right;\n",
       "    }\n",
       "</style>\n",
       "<table border=\"1\" class=\"dataframe\">\n",
       "  <thead>\n",
       "    <tr style=\"text-align: right;\">\n",
       "      <th></th>\n",
       "      <th>ID</th>\n",
       "      <th>Gender</th>\n",
       "      <th>Age</th>\n",
       "      <th>Region_Code</th>\n",
       "      <th>Occupation</th>\n",
       "      <th>Channel_Code</th>\n",
       "      <th>Vintage</th>\n",
       "      <th>Credit_Product</th>\n",
       "      <th>Avg_Account_Balance</th>\n",
       "      <th>Is_Active</th>\n",
       "      <th>Is_Lead</th>\n",
       "      <th>Region_Code_Group</th>\n",
       "    </tr>\n",
       "  </thead>\n",
       "  <tbody>\n",
       "    <tr>\n",
       "      <th>0</th>\n",
       "      <td>NNVBBKZB</td>\n",
       "      <td>Female</td>\n",
       "      <td>73</td>\n",
       "      <td>RG268</td>\n",
       "      <td>Other</td>\n",
       "      <td>X3</td>\n",
       "      <td>43</td>\n",
       "      <td>No</td>\n",
       "      <td>1045696</td>\n",
       "      <td>No</td>\n",
       "      <td>0</td>\n",
       "      <td>RG268</td>\n",
       "    </tr>\n",
       "    <tr>\n",
       "      <th>1</th>\n",
       "      <td>IDD62UNG</td>\n",
       "      <td>Female</td>\n",
       "      <td>30</td>\n",
       "      <td>RG277</td>\n",
       "      <td>Salaried</td>\n",
       "      <td>X1</td>\n",
       "      <td>32</td>\n",
       "      <td>No</td>\n",
       "      <td>581988</td>\n",
       "      <td>No</td>\n",
       "      <td>0</td>\n",
       "      <td>RG277</td>\n",
       "    </tr>\n",
       "    <tr>\n",
       "      <th>2</th>\n",
       "      <td>HD3DSEMC</td>\n",
       "      <td>Female</td>\n",
       "      <td>56</td>\n",
       "      <td>RG268</td>\n",
       "      <td>Self_Employed</td>\n",
       "      <td>X3</td>\n",
       "      <td>26</td>\n",
       "      <td>No</td>\n",
       "      <td>1484315</td>\n",
       "      <td>Yes</td>\n",
       "      <td>0</td>\n",
       "      <td>RG268</td>\n",
       "    </tr>\n",
       "    <tr>\n",
       "      <th>3</th>\n",
       "      <td>BF3NC7KV</td>\n",
       "      <td>Male</td>\n",
       "      <td>34</td>\n",
       "      <td>RG270</td>\n",
       "      <td>Salaried</td>\n",
       "      <td>X1</td>\n",
       "      <td>19</td>\n",
       "      <td>No</td>\n",
       "      <td>470454</td>\n",
       "      <td>No</td>\n",
       "      <td>0</td>\n",
       "      <td>RG270</td>\n",
       "    </tr>\n",
       "    <tr>\n",
       "      <th>4</th>\n",
       "      <td>TEASRWXV</td>\n",
       "      <td>Female</td>\n",
       "      <td>30</td>\n",
       "      <td>RG282</td>\n",
       "      <td>Salaried</td>\n",
       "      <td>X1</td>\n",
       "      <td>33</td>\n",
       "      <td>No</td>\n",
       "      <td>886787</td>\n",
       "      <td>No</td>\n",
       "      <td>0</td>\n",
       "      <td>RG282</td>\n",
       "    </tr>\n",
       "  </tbody>\n",
       "</table>\n",
       "</div>"
      ],
      "text/plain": [
       "         ID  Gender  Age Region_Code     Occupation Channel_Code  Vintage  \\\n",
       "0  NNVBBKZB  Female   73       RG268          Other           X3       43   \n",
       "1  IDD62UNG  Female   30       RG277       Salaried           X1       32   \n",
       "2  HD3DSEMC  Female   56       RG268  Self_Employed           X3       26   \n",
       "3  BF3NC7KV    Male   34       RG270       Salaried           X1       19   \n",
       "4  TEASRWXV  Female   30       RG282       Salaried           X1       33   \n",
       "\n",
       "  Credit_Product  Avg_Account_Balance Is_Active  Is_Lead Region_Code_Group  \n",
       "0             No              1045696        No        0             RG268  \n",
       "1             No               581988        No        0             RG277  \n",
       "2             No              1484315       Yes        0             RG268  \n",
       "3             No               470454        No        0             RG270  \n",
       "4             No               886787        No        0             RG282  "
      ]
     },
     "execution_count": 30,
     "metadata": {},
     "output_type": "execute_result"
    }
   ],
   "source": [
    "train.head()"
   ]
  },
  {
   "cell_type": "code",
   "execution_count": 31,
   "metadata": {},
   "outputs": [],
   "source": [
    "del train['ID']\n",
    "del train['Region_Code']\n",
    "del train['Region_Code_Group']"
   ]
  },
  {
   "cell_type": "code",
   "execution_count": 32,
   "metadata": {},
   "outputs": [],
   "source": [
    "del test['ID']\n",
    "del test['Region_Code']\n"
   ]
  },
  {
   "cell_type": "code",
   "execution_count": 33,
   "metadata": {},
   "outputs": [
    {
     "data": {
      "text/html": [
       "<div>\n",
       "<style scoped>\n",
       "    .dataframe tbody tr th:only-of-type {\n",
       "        vertical-align: middle;\n",
       "    }\n",
       "\n",
       "    .dataframe tbody tr th {\n",
       "        vertical-align: top;\n",
       "    }\n",
       "\n",
       "    .dataframe thead th {\n",
       "        text-align: right;\n",
       "    }\n",
       "</style>\n",
       "<table border=\"1\" class=\"dataframe\">\n",
       "  <thead>\n",
       "    <tr style=\"text-align: right;\">\n",
       "      <th></th>\n",
       "      <th>Gender</th>\n",
       "      <th>Age</th>\n",
       "      <th>Occupation</th>\n",
       "      <th>Channel_Code</th>\n",
       "      <th>Vintage</th>\n",
       "      <th>Credit_Product</th>\n",
       "      <th>Avg_Account_Balance</th>\n",
       "      <th>Is_Active</th>\n",
       "      <th>Is_Lead</th>\n",
       "    </tr>\n",
       "  </thead>\n",
       "  <tbody>\n",
       "    <tr>\n",
       "      <th>0</th>\n",
       "      <td>Female</td>\n",
       "      <td>73</td>\n",
       "      <td>Other</td>\n",
       "      <td>X3</td>\n",
       "      <td>43</td>\n",
       "      <td>No</td>\n",
       "      <td>1045696</td>\n",
       "      <td>No</td>\n",
       "      <td>0</td>\n",
       "    </tr>\n",
       "    <tr>\n",
       "      <th>1</th>\n",
       "      <td>Female</td>\n",
       "      <td>30</td>\n",
       "      <td>Salaried</td>\n",
       "      <td>X1</td>\n",
       "      <td>32</td>\n",
       "      <td>No</td>\n",
       "      <td>581988</td>\n",
       "      <td>No</td>\n",
       "      <td>0</td>\n",
       "    </tr>\n",
       "    <tr>\n",
       "      <th>2</th>\n",
       "      <td>Female</td>\n",
       "      <td>56</td>\n",
       "      <td>Self_Employed</td>\n",
       "      <td>X3</td>\n",
       "      <td>26</td>\n",
       "      <td>No</td>\n",
       "      <td>1484315</td>\n",
       "      <td>Yes</td>\n",
       "      <td>0</td>\n",
       "    </tr>\n",
       "    <tr>\n",
       "      <th>3</th>\n",
       "      <td>Male</td>\n",
       "      <td>34</td>\n",
       "      <td>Salaried</td>\n",
       "      <td>X1</td>\n",
       "      <td>19</td>\n",
       "      <td>No</td>\n",
       "      <td>470454</td>\n",
       "      <td>No</td>\n",
       "      <td>0</td>\n",
       "    </tr>\n",
       "    <tr>\n",
       "      <th>4</th>\n",
       "      <td>Female</td>\n",
       "      <td>30</td>\n",
       "      <td>Salaried</td>\n",
       "      <td>X1</td>\n",
       "      <td>33</td>\n",
       "      <td>No</td>\n",
       "      <td>886787</td>\n",
       "      <td>No</td>\n",
       "      <td>0</td>\n",
       "    </tr>\n",
       "  </tbody>\n",
       "</table>\n",
       "</div>"
      ],
      "text/plain": [
       "   Gender  Age     Occupation Channel_Code  Vintage Credit_Product  \\\n",
       "0  Female   73          Other           X3       43             No   \n",
       "1  Female   30       Salaried           X1       32             No   \n",
       "2  Female   56  Self_Employed           X3       26             No   \n",
       "3    Male   34       Salaried           X1       19             No   \n",
       "4  Female   30       Salaried           X1       33             No   \n",
       "\n",
       "   Avg_Account_Balance Is_Active  Is_Lead  \n",
       "0              1045696        No        0  \n",
       "1               581988        No        0  \n",
       "2              1484315       Yes        0  \n",
       "3               470454        No        0  \n",
       "4               886787        No        0  "
      ]
     },
     "execution_count": 33,
     "metadata": {},
     "output_type": "execute_result"
    }
   ],
   "source": [
    "train.head()"
   ]
  },
  {
   "cell_type": "code",
   "execution_count": 34,
   "metadata": {},
   "outputs": [
    {
     "data": {
      "image/png": "[encoded data removed]",
      "text/plain": [
       "<Figure size 432x288 with 2 Axes>"
      ]
     },
     "metadata": {
      "needs_background": "light"
     },
     "output_type": "display_data"
    }
   ],
   "source": [
    "heatmap = sns.heatmap(train.corr(method='spearman'))"
   ]
  },
  {
   "cell_type": "code",
   "execution_count": 35,
   "metadata": {},
   "outputs": [
    {
     "data": {
      "image/png": "[encoded data removed]",
      "text/plain": [
       "<Figure size 1440x720 with 1 Axes>"
      ]
     },
     "metadata": {
      "needs_background": "light"
     },
     "output_type": "display_data"
    }
   ],
   "source": [
    "train.corrwith(train.Is_Lead, method='spearman').plot.bar(\n",
    "        figsize = (20, 10), title = \"Correlation with Is_Lead\", fontsize = 15,\n",
    "        rot = 45, grid = True, color=['blue'])\n",
    "plt.show()"
   ]
  },
  {
   "cell_type": "code",
   "execution_count": 36,
   "metadata": {},
   "outputs": [
    {
     "data": {
      "text/plain": [
       "(Index(['Gender', 'Age', 'Occupation', 'Channel_Code', 'Vintage',\n",
       "        'Credit_Product', 'Avg_Account_Balance', 'Is_Active', 'Is_Lead'],\n",
       "       dtype='object'),\n",
       " Index(['Gender', 'Age', 'Occupation', 'Channel_Code', 'Vintage',\n",
       "        'Credit_Product', 'Avg_Account_Balance', 'Is_Active'],\n",
       "       dtype='object'))"
      ]
     },
     "execution_count": 36,
     "metadata": {},
     "output_type": "execute_result"
    }
   ],
   "source": [
    "train.columns, test.columns"
   ]
  },
  {
   "cell_type": "code",
   "execution_count": 37,
   "metadata": {},
   "outputs": [],
   "source": [
    "train = pd.get_dummies(train, columns=['Gender','Occupation','Channel_Code','Credit_Product','Is_Active'], drop_first = True)\n",
    "test = pd.get_dummies(test, columns=['Gender','Occupation','Channel_Code','Credit_Product','Is_Active'], drop_first = True)\n"
   ]
  },
  {
   "cell_type": "code",
   "execution_count": 38,
   "metadata": {},
   "outputs": [
    {
     "data": {
      "text/html": [
       "<div>\n",
       "<style scoped>\n",
       "    .dataframe tbody tr th:only-of-type {\n",
       "        vertical-align: middle;\n",
       "    }\n",
       "\n",
       "    .dataframe tbody tr th {\n",
       "        vertical-align: top;\n",
       "    }\n",
       "\n",
       "    .dataframe thead th {\n",
       "        text-align: right;\n",
       "    }\n",
       "</style>\n",
       "<table border=\"1\" class=\"dataframe\">\n",
       "  <thead>\n",
       "    <tr style=\"text-align: right;\">\n",
       "      <th></th>\n",
       "      <th>Age</th>\n",
       "      <th>Vintage</th>\n",
       "      <th>Avg_Account_Balance</th>\n",
       "      <th>Is_Lead</th>\n",
       "      <th>Gender_Male</th>\n",
       "      <th>Occupation_Other</th>\n",
       "      <th>Occupation_Salaried</th>\n",
       "      <th>Occupation_Self_Employed</th>\n",
       "      <th>Channel_Code_X2</th>\n",
       "      <th>Channel_Code_X3</th>\n",
       "      <th>Channel_Code_X4</th>\n",
       "      <th>Credit_Product_Yes</th>\n",
       "      <th>Is_Active_Yes</th>\n",
       "    </tr>\n",
       "  </thead>\n",
       "  <tbody>\n",
       "    <tr>\n",
       "      <th>0</th>\n",
       "      <td>73</td>\n",
       "      <td>43</td>\n",
       "      <td>1045696</td>\n",
       "      <td>0</td>\n",
       "      <td>0</td>\n",
       "      <td>1</td>\n",
       "      <td>0</td>\n",
       "      <td>0</td>\n",
       "      <td>0</td>\n",
       "      <td>1</td>\n",
       "      <td>0</td>\n",
       "      <td>0</td>\n",
       "      <td>0</td>\n",
       "    </tr>\n",
       "    <tr>\n",
       "      <th>1</th>\n",
       "      <td>30</td>\n",
       "      <td>32</td>\n",
       "      <td>581988</td>\n",
       "      <td>0</td>\n",
       "      <td>0</td>\n",
       "      <td>0</td>\n",
       "      <td>1</td>\n",
       "      <td>0</td>\n",
       "      <td>0</td>\n",
       "      <td>0</td>\n",
       "      <td>0</td>\n",
       "      <td>0</td>\n",
       "      <td>0</td>\n",
       "    </tr>\n",
       "    <tr>\n",
       "      <th>2</th>\n",
       "      <td>56</td>\n",
       "      <td>26</td>\n",
       "      <td>1484315</td>\n",
       "      <td>0</td>\n",
       "      <td>0</td>\n",
       "      <td>0</td>\n",
       "      <td>0</td>\n",
       "      <td>1</td>\n",
       "      <td>0</td>\n",
       "      <td>1</td>\n",
       "      <td>0</td>\n",
       "      <td>0</td>\n",
       "      <td>1</td>\n",
       "    </tr>\n",
       "    <tr>\n",
       "      <th>3</th>\n",
       "      <td>34</td>\n",
       "      <td>19</td>\n",
       "      <td>470454</td>\n",
       "      <td>0</td>\n",
       "      <td>1</td>\n",
       "      <td>0</td>\n",
       "      <td>1</td>\n",
       "      <td>0</td>\n",
       "      <td>0</td>\n",
       "      <td>0</td>\n",
       "      <td>0</td>\n",
       "      <td>0</td>\n",
       "      <td>0</td>\n",
       "    </tr>\n",
       "    <tr>\n",
       "      <th>4</th>\n",
       "      <td>30</td>\n",
       "      <td>33</td>\n",
       "      <td>886787</td>\n",
       "      <td>0</td>\n",
       "      <td>0</td>\n",
       "      <td>0</td>\n",
       "      <td>1</td>\n",
       "      <td>0</td>\n",
       "      <td>0</td>\n",
       "      <td>0</td>\n",
       "      <td>0</td>\n",
       "      <td>0</td>\n",
       "      <td>0</td>\n",
       "    </tr>\n",
       "  </tbody>\n",
       "</table>\n",
       "</div>"
      ],
      "text/plain": [
       "   Age  Vintage  Avg_Account_Balance  Is_Lead  Gender_Male  Occupation_Other  \\\n",
       "0   73       43              1045696        0            0                 1   \n",
       "1   30       32               581988        0            0                 0   \n",
       "2   56       26              1484315        0            0                 0   \n",
       "3   34       19               470454        0            1                 0   \n",
       "4   30       33               886787        0            0                 0   \n",
       "\n",
       "   Occupation_Salaried  Occupation_Self_Employed  Channel_Code_X2  \\\n",
       "0                    0                         0                0   \n",
       "1                    1                         0                0   \n",
       "2                    0                         1                0   \n",
       "3                    1                         0                0   \n",
       "4                    1                         0                0   \n",
       "\n",
       "   Channel_Code_X3  Channel_Code_X4  Credit_Product_Yes  Is_Active_Yes  \n",
       "0                1                0                   0              0  \n",
       "1                0                0                   0              0  \n",
       "2                1                0                   0              1  \n",
       "3                0                0                   0              0  \n",
       "4                0                0                   0              0  "
      ]
     },
     "execution_count": 38,
     "metadata": {},
     "output_type": "execute_result"
    }
   ],
   "source": [
    "train.head()"
   ]
  },
  {
   "cell_type": "code",
   "execution_count": 39,
   "metadata": {},
   "outputs": [
    {
     "data": {
      "text/plain": [
       "((245725, 13), (105312, 12))"
      ]
     },
     "execution_count": 39,
     "metadata": {},
     "output_type": "execute_result"
    }
   ],
   "source": [
    "train.shape, test.shape"
   ]
  },
  {
   "cell_type": "code",
   "execution_count": 40,
   "metadata": {},
   "outputs": [],
   "source": [
    "y = train['Is_Lead']\n",
    "X = train.drop(columns=['Is_Lead'])"
   ]
  },
  {
   "cell_type": "code",
   "execution_count": 41,
   "metadata": {},
   "outputs": [],
   "source": [
    "from sklearn.model_selection import train_test_split\n"
   ]
  },
  {
   "cell_type": "code",
   "execution_count": 42,
   "metadata": {},
   "outputs": [],
   "source": [
    "X_train, X_test, y_train, y_test = train_test_split(X, y, test_size = 0.3, random_state=42)"
   ]
  },
  {
   "cell_type": "code",
   "execution_count": 45,
   "metadata": {},
   "outputs": [],
   "source": [
    "import lightgbm as lgb\n",
    "from sklearn.metrics import roc_auc_score,auc\n",
    "from lightgbm import LGBMClassifier"
   ]
  },
  {
   "cell_type": "code",
   "execution_count": 48,
   "metadata": {},
   "outputs": [
    {
     "name": "stdout",
     "output_type": "stream",
     "text": [
      "Accuracy:  0.7123302558631035\n",
      "Accuracy:  0.7159382205840712\n",
      "Accuracy:  0.7160335603802698\n",
      "Accuracy:  0.7225235063533896\n",
      "Accuracy:  0.7227434049107695\n",
      "Accuracy:  0.7182078875533727\n",
      "Accuracy:  0.7196269196850702\n",
      "Accuracy:  0.7163069918699188\n",
      "Accuracy:  0.7160952039897509\n",
      "Accuracy:  0.719540944456295\n"
     ]
    }
   ],
   "source": [
    "from sklearn.model_selection import KFold\n",
    "\n",
    "errlgb = []\n",
    "y_pred_totlgb = []\n",
    "\n",
    "fold = KFold(n_splits=10, shuffle=True, random_state=101)\n",
    "\n",
    "for train_index, test_index in fold.split(X):\n",
    "    X_train, X_test = X.loc[train_index], X.loc[test_index]\n",
    "    y_train, y_test = y[train_index], y[test_index]\n",
    "    \n",
    "    model = LGBMClassifier(verbose=100,boosting_type='gbdt',n_estimators=500,depth=10,learning_rate=0.1,objective='binary',metric='auc',is_unbalance=True,\n",
    "                 colsample_bytree=0.5,reg_lambda=2,reg_alpha=2,random_state=42,n_jobs=-1)\n",
    "    model.fit(X_train, y_train, eval_set=[(X_test, y_test)], verbose=0, early_stopping_rounds=200)\n",
    "\n",
    "    y_pred_lgb = model.predict(X_test)\n",
    "    print(\"Accuracy: \", roc_auc_score(y_test,y_pred_lgb, average='weighted'))\n",
    "\n",
    "    errlgb.append(roc_auc_score(y_test,y_pred_lgb, average='weighted'))\n",
    "    p = model.predict(test)\n",
    "    y_pred_totlgb.append(p)"
   ]
  },
  {
   "cell_type": "code",
   "execution_count": null,
   "metadata": {},
   "outputs": [],
   "source": []
  },
  {
   "cell_type": "code",
   "execution_count": null,
   "metadata": {},
   "outputs": [],
   "source": []
  },
  {
   "cell_type": "code",
   "execution_count": null,
   "metadata": {},
   "outputs": [],
   "source": []
  },
  {
   "cell_type": "code",
   "execution_count": null,
   "metadata": {},
   "outputs": [],
   "source": []
  }
 ],
 "metadata": {
  "kernelspec": {
   "display_name": "Python 3",
   "language": "python",
   "name": "python3"
  },
  "language_info": {
   "codemirror_mode": {
    "name": "ipython",
    "version": 3
   },
   "file_extension": ".py",
   "mimetype": "text/x-python",
   "name": "python",
   "nbconvert_exporter": "python",
   "pygments_lexer": "ipython3",
   "version": "3.7.6"
  }
 },
 "nbformat": 4,
 "nbformat_minor": 4
}
