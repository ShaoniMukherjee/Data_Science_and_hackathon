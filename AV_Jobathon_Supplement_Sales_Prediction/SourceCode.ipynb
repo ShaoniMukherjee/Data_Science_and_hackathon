{
 "cells": [
  {
   "cell_type": "markdown",
   "metadata": {
    "id": "YQSGHcpyjKE_"
   },
   "source": [
    "# Initialization\n"
   ]
  },
  {
   "cell_type": "code",
   "execution_count": 1,
   "metadata": {
    "colab": {
     "base_uri": "https://localhost:8080/"
    },
    "id": "M2ilJ_0mb7QK",
    "outputId": "c5a1db72-859a-4e49-95bf-e717dc748fd7"
   },
   "outputs": [],
   "source": [
    "#Upgrading Xgboost\n",
    "#pip install --upgrade xgboost"
   ]
  },
  {
   "cell_type": "code",
   "execution_count": 2,
   "metadata": {
    "id": "OssU-y8C64ZE"
   },
   "outputs": [],
   "source": [
    "import pandas as pd\n",
    "import numpy as np\n",
    "from sklearn.model_selection import cross_val_score\n",
    "from numpy import mean\n",
    "from sklearn.model_selection import cross_validate\n",
    "from sklearn.model_selection import RepeatedStratifiedKFold,train_test_split\n",
    "from sklearn.metrics import log_loss, mean_squared_log_error\n",
    "from sklearn.model_selection import StratifiedKFold\n",
    "from numpy import unique\n",
    "from numpy import arange\n",
    "from pandas import read_csv\n",
    "from matplotlib import pyplot\n",
    "from scipy import stats\n",
    "from sklearn.metrics import mean_absolute_error\n",
    "from xgboost import XGBRegressor\n",
    "from statistics import *\n",
    "from sklearn.preprocessing import LabelEncoder\n",
    "from sklearn import preprocessing"
   ]
  },
  {
   "cell_type": "code",
   "execution_count": 3,
   "metadata": {
    "id": "m8oLDeit7MOR"
   },
   "outputs": [],
   "source": [
    "#Reading the test and train dataset\n",
    "df_test=pd.read_csv(\"TEST_FINAL.csv\")\n",
    "df=pd.read_csv(\"TRAIN.csv\")"
   ]
  },
  {
   "cell_type": "markdown",
   "metadata": {
    "id": "4DcitIsHpAtM"
   },
   "source": [
    "#Data Preprocessing"
   ]
  },
  {
   "cell_type": "code",
   "execution_count": 4,
   "metadata": {
    "id": "y28JLED3mKdg"
   },
   "outputs": [],
   "source": [
    "#Dropping useless features\n",
    "df_test=df_test.drop(['ID'],axis=1)\n",
    "df=df.drop(['ID','#Order'],axis=1)"
   ]
  },
  {
   "cell_type": "code",
   "execution_count": 5,
   "metadata": {
    "id": "UC5UyBG3jmcK"
   },
   "outputs": [],
   "source": [
    "#Removing rows where Sales is zero.\n",
    "df=df[df.Sales!=0]"
   ]
  },
  {
   "cell_type": "code",
   "execution_count": 6,
   "metadata": {
    "id": "NSPOcAnl4HX5"
   },
   "outputs": [],
   "source": [
    "#Changing datatype of Date variable\n",
    "df['Date']= df['Date'].astype('datetime64[ns]')\n",
    "df_test['Date']= df_test['Date'].astype('datetime64[ns]')"
   ]
  },
  {
   "cell_type": "code",
   "execution_count": 7,
   "metadata": {
    "id": "--_IUzkwOyjA"
   },
   "outputs": [],
   "source": [
    "#Extracting dayofweek and year from Date\n",
    "df['dayofweek'] = pd.DatetimeIndex(df['Date']).dayofweek\n",
    "df['year'] = pd.DatetimeIndex(df['Date']).year\n",
    "df_test['dayofweek'] = pd.DatetimeIndex(df_test['Date']).dayofweek\n",
    "df_test['year'] = pd.DatetimeIndex(df_test['Date']).year"
   ]
  },
  {
   "cell_type": "code",
   "execution_count": 8,
   "metadata": {
    "id": "l2vyM10e40lY"
   },
   "outputs": [],
   "source": [
    "#Dropping Date feature\n",
    "df=df.drop(['Date'],axis=1)\n",
    "df_test=df_test.drop(['Date'],axis=1)"
   ]
  },
  {
   "cell_type": "code",
   "execution_count": 9,
   "metadata": {
    "colab": {
     "base_uri": "https://localhost:8080/"
    },
    "id": "uG9cMXLISlDa",
    "outputId": "45acef7e-34f5-46b0-b688-9d35d5483ae3"
   },
   "outputs": [
    {
     "name": "stdout",
     "output_type": "stream",
     "text": [
      "Store_Type\n",
      "['S1' 'S2' 'S3' 'S4']\n",
      "Location_Type\n",
      "['L1' 'L2' 'L3' 'L4' 'L5']\n",
      "Region_Code\n",
      "['R1' 'R2' 'R3' 'R4']\n",
      "Discount\n",
      "['No' 'Yes']\n",
      "year\n",
      "[2018 2019]\n",
      "Store_Type\n",
      "['S1' 'S2' 'S3' 'S4']\n",
      "Location_Type\n",
      "['L1' 'L2' 'L3' 'L4' 'L5']\n",
      "Region_Code\n",
      "['R1' 'R2' 'R3' 'R4']\n",
      "Discount\n",
      "['No' 'Yes']\n"
     ]
    }
   ],
   "source": [
    "#Encoding categorical variables\n",
    "for col in df.columns:\n",
    "    if col in [\"Store_Type\",\"Location_Type\",\"Region_Code\",\"Discount\",\"year\"]:\n",
    "        print(col)\n",
    "        le = preprocessing.LabelEncoder()\n",
    "        le.fit(df[col])\n",
    "        LabelEncoder()\n",
    "        print(le.classes_)\n",
    "        df[col]=le.transform(df[col])\n",
    "for col in df_test.columns:\n",
    "    if col in [\"Store_Type\",\"Location_Type\",\"Region_Code\",\"Discount\"]:\n",
    "        print(col)\n",
    "        le = preprocessing.LabelEncoder()\n",
    "        le.fit(df_test[col])\n",
    "        LabelEncoder()\n",
    "        print(le.classes_)\n",
    "        df_test[col]=le.transform(df_test[col])"
   ]
  },
  {
   "cell_type": "markdown",
   "metadata": {
    "id": "0BafgVJBmZbn"
   },
   "source": [
    "# Model Tuning"
   ]
  },
  {
   "cell_type": "code",
   "execution_count": 10,
   "metadata": {
    "id": "NpW17M54Qdlu"
   },
   "outputs": [
    {
     "name": "stdout",
     "output_type": "stream",
     "text": [
      "Starting j: 0\n"
     ]
    },
    {
     "name": "stderr",
     "output_type": "stream",
     "text": [
      "C:\\Users\\haris\\anaconda3\\lib\\site-packages\\xgboost\\data.py:114: UserWarning: Use subset (sliced data) of np.ndarray is not recommended because it will generate extra copies and increase memory consumption\n",
      "  \"because it will generate extra copies and increase \" +\n"
     ]
    },
    {
     "name": "stdout",
     "output_type": "stream",
     "text": [
      "For i: 0 the loss is 77.7522364148856\n",
      "Starting j: 1\n"
     ]
    },
    {
     "name": "stderr",
     "output_type": "stream",
     "text": [
      "C:\\Users\\haris\\anaconda3\\lib\\site-packages\\xgboost\\data.py:114: UserWarning: Use subset (sliced data) of np.ndarray is not recommended because it will generate extra copies and increase memory consumption\n",
      "  \"because it will generate extra copies and increase \" +\n"
     ]
    },
    {
     "name": "stdout",
     "output_type": "stream",
     "text": [
      "For i: 0 the loss is 77.40998218413179\n",
      "Starting j: 2\n"
     ]
    },
    {
     "name": "stderr",
     "output_type": "stream",
     "text": [
      "C:\\Users\\haris\\anaconda3\\lib\\site-packages\\xgboost\\data.py:114: UserWarning: Use subset (sliced data) of np.ndarray is not recommended because it will generate extra copies and increase memory consumption\n",
      "  \"because it will generate extra copies and increase \" +\n"
     ]
    },
    {
     "name": "stdout",
     "output_type": "stream",
     "text": [
      "For i: 0 the loss is 76.38789267087871\n",
      "Starting j: 3\n"
     ]
    },
    {
     "name": "stderr",
     "output_type": "stream",
     "text": [
      "C:\\Users\\haris\\anaconda3\\lib\\site-packages\\xgboost\\data.py:114: UserWarning: Use subset (sliced data) of np.ndarray is not recommended because it will generate extra copies and increase memory consumption\n",
      "  \"because it will generate extra copies and increase \" +\n"
     ]
    },
    {
     "name": "stdout",
     "output_type": "stream",
     "text": [
      "For i: 0 the loss is 76.71536836300916\n",
      "Starting j: 4\n"
     ]
    },
    {
     "name": "stderr",
     "output_type": "stream",
     "text": [
      "C:\\Users\\haris\\anaconda3\\lib\\site-packages\\xgboost\\data.py:114: UserWarning: Use subset (sliced data) of np.ndarray is not recommended because it will generate extra copies and increase memory consumption\n",
      "  \"because it will generate extra copies and increase \" +\n"
     ]
    },
    {
     "name": "stdout",
     "output_type": "stream",
     "text": [
      "For i: 0 the loss is 77.40753076271216\n",
      "Starting j: 5\n"
     ]
    },
    {
     "name": "stderr",
     "output_type": "stream",
     "text": [
      "C:\\Users\\haris\\anaconda3\\lib\\site-packages\\xgboost\\data.py:114: UserWarning: Use subset (sliced data) of np.ndarray is not recommended because it will generate extra copies and increase memory consumption\n",
      "  \"because it will generate extra copies and increase \" +\n"
     ]
    },
    {
     "name": "stdout",
     "output_type": "stream",
     "text": [
      "For i: 0 the loss is 78.95042311890789\n",
      "Starting j: 6\n"
     ]
    },
    {
     "name": "stderr",
     "output_type": "stream",
     "text": [
      "C:\\Users\\haris\\anaconda3\\lib\\site-packages\\xgboost\\data.py:114: UserWarning: Use subset (sliced data) of np.ndarray is not recommended because it will generate extra copies and increase memory consumption\n",
      "  \"because it will generate extra copies and increase \" +\n"
     ]
    },
    {
     "name": "stdout",
     "output_type": "stream",
     "text": [
      "For i: 0 the loss is 75.56697522860753\n",
      "Starting j: 7\n"
     ]
    },
    {
     "name": "stderr",
     "output_type": "stream",
     "text": [
      "C:\\Users\\haris\\anaconda3\\lib\\site-packages\\xgboost\\data.py:114: UserWarning: Use subset (sliced data) of np.ndarray is not recommended because it will generate extra copies and increase memory consumption\n",
      "  \"because it will generate extra copies and increase \" +\n"
     ]
    },
    {
     "name": "stdout",
     "output_type": "stream",
     "text": [
      "For i: 0 the loss is 77.69654841217181\n",
      "Starting j: 8\n"
     ]
    },
    {
     "name": "stderr",
     "output_type": "stream",
     "text": [
      "C:\\Users\\haris\\anaconda3\\lib\\site-packages\\xgboost\\data.py:114: UserWarning: Use subset (sliced data) of np.ndarray is not recommended because it will generate extra copies and increase memory consumption\n",
      "  \"because it will generate extra copies and increase \" +\n"
     ]
    },
    {
     "name": "stdout",
     "output_type": "stream",
     "text": [
      "For i: 0 the loss is 78.44978591762433\n",
      "Starting j: 9\n"
     ]
    },
    {
     "name": "stderr",
     "output_type": "stream",
     "text": [
      "C:\\Users\\haris\\anaconda3\\lib\\site-packages\\xgboost\\data.py:114: UserWarning: Use subset (sliced data) of np.ndarray is not recommended because it will generate extra copies and increase memory consumption\n",
      "  \"because it will generate extra copies and increase \" +\n"
     ]
    },
    {
     "name": "stdout",
     "output_type": "stream",
     "text": [
      "For i: 0 the loss is 74.2237325491943\n",
      "Starting j: 10\n"
     ]
    },
    {
     "name": "stderr",
     "output_type": "stream",
     "text": [
      "C:\\Users\\haris\\anaconda3\\lib\\site-packages\\xgboost\\data.py:114: UserWarning: Use subset (sliced data) of np.ndarray is not recommended because it will generate extra copies and increase memory consumption\n",
      "  \"because it will generate extra copies and increase \" +\n"
     ]
    },
    {
     "name": "stdout",
     "output_type": "stream",
     "text": [
      "For i: 0 the loss is 77.2441858269153\n",
      "[77.7522364148856, 77.40998218413179, 76.38789267087871, 76.71536836300916, 77.40753076271216, 78.95042311890789, 75.56697522860753, 77.69654841217181, 78.44978591762433, 74.2237325491943, 77.2441858269153]\n",
      "77.07315104082168\n"
     ]
    },
    {
     "data": {
      "image/png": "[encoded data removed]",
      "text/plain": [
       "<Figure size 432x288 with 1 Axes>"
      ]
     },
     "metadata": {
      "needs_background": "light"
     },
     "output_type": "display_data"
    }
   ],
   "source": [
    "import matplotlib.pyplot as plt\n",
    "import numpy as np\n",
    "%matplotlib inline\n",
    "\n",
    "X,y=df.drop(['Sales'],axis=1),df['Sales']\n",
    "avg=[]\n",
    "lr = XGBRegressor(objective='reg:squarederror', learning_rate=0.25, min_child_weight=8, \n",
    "                          reg_lambda=2, subsample=.6)\n",
    "for j in range(11):\n",
    "    print('Starting j: {}'.format(j))\n",
    "    X_train, X_test, y_train, y_test = train_test_split(X, y, test_size=0.33)\n",
    "    dum=[]\n",
    "    bum=[]\n",
    "    for i in range(1):\n",
    "        i=i\n",
    "        lr.fit(X_train, y_train)\n",
    "        y_test_pred = lr.predict(X_test)\n",
    "        y_test_pred = [abs(number) for number in y_test_pred]\n",
    "        loss=mean_squared_log_error(y_test, y_test_pred)\n",
    "        print('For i: {} the loss is {}'.format(i,loss*1000))\n",
    "        bum.append(i)\n",
    "        dum.append(loss*1000)\n",
    "        plt.plot(bum,dum)\n",
    "        avg.append(mean(dum))\n",
    "plt.ylabel('loss')\n",
    "plt.xlabel('parameter');\n",
    "plt.grid(True)\n",
    "print(avg)\n",
    "print(mean(avg))"
   ]
  },
  {
   "cell_type": "code",
   "execution_count": 11,
   "metadata": {
    "colab": {
     "base_uri": "https://localhost:8080/"
    },
    "id": "OtUUO5o8X3Da",
    "outputId": "d9a78d42-6d4b-4283-d678-89d2ef060d25"
   },
   "outputs": [
    {
     "data": {
      "text/plain": [
       "XGBRegressor(base_score=0.5, booster='gbtree', colsample_bylevel=1,\n",
       "             colsample_bynode=1, colsample_bytree=1, gamma=0, gpu_id=-1,\n",
       "             importance_type='gain', interaction_constraints='',\n",
       "             learning_rate=0.25, max_delta_step=0, max_depth=6,\n",
       "             min_child_weight=8, missing=nan, monotone_constraints='()',\n",
       "             n_estimators=100, n_jobs=4, num_parallel_tree=1, random_state=0,\n",
       "             reg_alpha=0, reg_lambda=2, scale_pos_weight=1, subsample=0.6,\n",
       "             tree_method='exact', validate_parameters=1, verbosity=None)"
      ]
     },
     "execution_count": 11,
     "metadata": {},
     "output_type": "execute_result"
    }
   ],
   "source": [
    "lr #Printing model"
   ]
  },
  {
   "cell_type": "code",
   "execution_count": 12,
   "metadata": {
    "colab": {
     "base_uri": "https://localhost:8080/",
     "height": 578
    },
    "id": "GzmuPjYBt_e0",
    "outputId": "a5379327-8026-4bd3-ca54-ed84f08f4e7b"
   },
   "outputs": [
    {
     "name": "stdout",
     "output_type": "stream",
     "text": [
      "{'Store_Type': 315, 'Discount': 680, 'Location_Type': 287, 'dayofweek': 1151, 'Holiday': 450, 'Store_id': 2276, 'Region_Code': 268, 'year': 498}\n"
     ]
    },
    {
     "data": {
      "text/plain": [
       "([<matplotlib.axis.XTick at 0x2761199eb08>,\n",
       "  <matplotlib.axis.XTick at 0x27611983208>,\n",
       "  <matplotlib.axis.XTick at 0x276119c1748>,\n",
       "  <matplotlib.axis.XTick at 0x276119f7988>,\n",
       "  <matplotlib.axis.XTick at 0x276119fd288>,\n",
       "  <matplotlib.axis.XTick at 0x276119fd648>,\n",
       "  <matplotlib.axis.XTick at 0x276119fdcc8>,\n",
       "  <matplotlib.axis.XTick at 0x27611a03348>],\n",
       " [Text(0, 0, 'Store_Type'),\n",
       "  Text(0, 0, 'Discount'),\n",
       "  Text(0, 0, 'Location_Type'),\n",
       "  Text(0, 0, 'dayofweek'),\n",
       "  Text(0, 0, 'Holiday'),\n",
       "  Text(0, 0, 'Store_id'),\n",
       "  Text(0, 0, 'Region_Code'),\n",
       "  Text(0, 0, 'year')])"
      ]
     },
     "execution_count": 12,
     "metadata": {},
     "output_type": "execute_result"
    },
    {
     "data": {
      "image/png": "[encoded data removed]",
      "text/plain": [
       "<Figure size 432x288 with 1 Axes>"
      ]
     },
     "metadata": {
      "needs_background": "light"
     },
     "output_type": "display_data"
    }
   ],
   "source": [
    "#Getting the feature importence chart\n",
    "D=lr.get_booster().get_fscore()\n",
    "print(lr.get_booster().get_fscore())\n",
    "plt.bar(range(len(D)), list(D.values()), align='center')\n",
    "plt.xticks(range(len(D)), list(D.keys()))"
   ]
  },
  {
   "cell_type": "markdown",
   "metadata": {
    "id": "1P_7A_6gxltR"
   },
   "source": [
    "## Final Model"
   ]
  },
  {
   "cell_type": "code",
   "execution_count": 13,
   "metadata": {
    "colab": {
     "base_uri": "https://localhost:8080/"
    },
    "id": "A8UNK-m6Rw4R",
    "outputId": "9d3114ec-9dd9-4c68-ab18-a111807c0f32"
   },
   "outputs": [
    {
     "data": {
      "text/plain": [
       "XGBRegressor(base_score=0.5, booster='gbtree', colsample_bylevel=1,\n",
       "             colsample_bynode=1, colsample_bytree=1, gamma=0, gpu_id=-1,\n",
       "             importance_type='gain', interaction_constraints='',\n",
       "             learning_rate=0.25, max_delta_step=0, max_depth=6,\n",
       "             min_child_weight=8, missing=nan, monotone_constraints='()',\n",
       "             n_estimators=100, n_jobs=4, num_parallel_tree=1, random_state=0,\n",
       "             reg_alpha=0, reg_lambda=2, scale_pos_weight=1, subsample=0.6,\n",
       "             tree_method='exact', validate_parameters=1, verbosity=None)"
      ]
     },
     "execution_count": 13,
     "metadata": {},
     "output_type": "execute_result"
    }
   ],
   "source": [
    "# split into input and output elements\n",
    "X,y=df.drop(['Sales'],axis=1),df['Sales']\n",
    "\n",
    "#Final model initiation\n",
    "final_lr = XGBRegressor(objective='reg:squarederror', learning_rate=0.25, min_child_weight=8, reg_lambda=2, subsample=.6)\n",
    "\n",
    "#Fitting the model\n",
    "final_lr.fit(X, y)"
   ]
  },
  {
   "cell_type": "markdown",
   "metadata": {
    "id": "HGwUug1smUXs"
   },
   "source": [
    "# To Csv"
   ]
  },
  {
   "cell_type": "code",
   "execution_count": 241,
   "metadata": {
    "id": "r2ofwcUF3VII"
   },
   "outputs": [],
   "source": [
    "df_test['year'] = df_test['year'].map({2018: 0, 2019: 1})#Encoding the year in test dataset"
   ]
  },
  {
   "cell_type": "code",
   "execution_count": 253,
   "metadata": {
    "colab": {
     "base_uri": "https://localhost:8080/"
    },
    "id": "0J7WipaHA6v_",
    "outputId": "43b6b943-52e4-4f14-8fe1-2930b000884f"
   },
   "outputs": [
    {
     "data": {
      "text/plain": [
       "array([55416.3  , 39338.55 , 77768.4  , ..., 46083.11 , 30609.332,\n",
       "       25053.686], dtype=float32)"
      ]
     },
     "execution_count": 253,
     "metadata": {},
     "output_type": "execute_result"
    }
   ],
   "source": [
    "#Getting final predictions\n",
    "y_test_pred = final_lr.predict(df_test)\n",
    "y_test_pred"
   ]
  },
  {
   "cell_type": "code",
   "execution_count": 254,
   "metadata": {
    "colab": {
     "base_uri": "https://localhost:8080/"
    },
    "id": "-Ne2cUad4TjX",
    "outputId": "9176fc5d-69fe-4440-d6e1-f27cee3555e9"
   },
   "outputs": [
    {
     "data": {
      "text/plain": [
       "7008.259"
      ]
     },
     "execution_count": 254,
     "metadata": {},
     "output_type": "execute_result"
    }
   ],
   "source": [
    "y_test_pred.min()"
   ]
  },
  {
   "cell_type": "code",
   "execution_count": 255,
   "metadata": {
    "id": "poqcVjLUuyeO"
   },
   "outputs": [],
   "source": [
    "df_sub = pd.DataFrame(y_test_pred)\n",
    "  \n",
    "# save the dataframe as a csv file\n",
    "df_sub.to_csv(\"submit.csv\")"
   ]
  }
 ],
 "metadata": {
  "accelerator": "GPU",
  "colab": {
   "collapsed_sections": [],
   "name": "SourceCode.ipynb",
   "provenance": []
  },
  "kernelspec": {
   "display_name": "Python 3",
   "language": "python",
   "name": "python3"
  },
  "language_info": {
   "codemirror_mode": {
    "name": "ipython",
    "version": 3
   },
   "file_extension": ".py",
   "mimetype": "text/x-python",
   "name": "python",
   "nbconvert_exporter": "python",
   "pygments_lexer": "ipython3",
   "version": "3.7.6"
  }
 },
 "nbformat": 4,
 "nbformat_minor": 1
}
